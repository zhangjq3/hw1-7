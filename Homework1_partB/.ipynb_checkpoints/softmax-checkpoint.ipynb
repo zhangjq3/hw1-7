{
 "cells": [
  {
   "cell_type": "markdown",
   "metadata": {
    "tags": [
     "pdf-title"
    ]
   },
   "source": [
    "# Softmax exercise\n",
    "\n",
    "*Complete and hand in this completed worksheet (including its outputs and any supporting code outside of the worksheet) with your assignment submission. For more details see the [assignments page](http://vision.stanford.edu/teaching/cs231n/assignments.html) on the course website.*\n",
    "\n",
    "This exercise is analogous to the SVM exercise. You will:\n",
    "\n",
    "- implement a fully-vectorized **loss function** for the Softmax classifier\n",
    "- implement the fully-vectorized expression for its **analytic gradient**\n",
    "- **check your implementation** with numerical gradient\n",
    "- use a validation set to **tune the learning rate and regularization** strength\n",
    "- **optimize** the loss function with **SGD**\n",
    "- **visualize** the final learned weights\n"
   ]
  },
  {
   "cell_type": "code",
   "execution_count": 1,
   "metadata": {
    "tags": [
     "pdf-ignore"
    ]
   },
   "outputs": [],
   "source": [
    "import random\n",
    "import numpy as np\n",
    "from cs231n.data_utils import load_CIFAR10\n",
    "import matplotlib.pyplot as plt\n",
    "\n",
    "%matplotlib inline\n",
    "plt.rcParams['figure.figsize'] = (10.0, 8.0) # set default size of plots\n",
    "plt.rcParams['image.interpolation'] = 'nearest'\n",
    "plt.rcParams['image.cmap'] = 'gray'\n",
    "\n",
    "# for auto-reloading extenrnal modules\n",
    "# see http://stackoverflow.com/questions/1907993/autoreload-of-modules-in-ipython\n",
    "%load_ext autoreload\n",
    "%autoreload 2"
   ]
  },
  {
   "cell_type": "code",
   "execution_count": 2,
   "metadata": {
    "tags": [
     "pdf-ignore"
    ]
   },
   "outputs": [
    {
     "name": "stdout",
     "output_type": "stream",
     "text": [
      "Train data shape:  (49000, 3073)\n",
      "Train labels shape:  (49000,)\n",
      "Validation data shape:  (1000, 3073)\n",
      "Validation labels shape:  (1000,)\n",
      "Test data shape:  (1000, 3073)\n",
      "Test labels shape:  (1000,)\n",
      "dev data shape:  (500, 3073)\n",
      "dev labels shape:  (500,)\n"
     ]
    }
   ],
   "source": [
    "def get_CIFAR10_data(num_training=49000, num_validation=1000, num_test=1000, num_dev=500):\n",
    "    \"\"\"\n",
    "    Load the CIFAR-10 dataset from disk and perform preprocessing to prepare\n",
    "    it for the linear classifier. These are the same steps as we used for the\n",
    "    SVM, but condensed to a single function.  \n",
    "    \"\"\"\n",
    "    # Load the raw CIFAR-10 data\n",
    "    cifar10_dir = 'cs231n/datasets/cifar-10-batches-py'\n",
    "    \n",
    "    # Cleaning up variables to prevent loading data multiple times (which may cause memory issue)\n",
    "    try:\n",
    "       del X_train, y_train\n",
    "       del X_test, y_test\n",
    "       print('Clear previously loaded data.')\n",
    "    except:\n",
    "       pass\n",
    "\n",
    "    X_train, y_train, X_test, y_test = load_CIFAR10(cifar10_dir)\n",
    "    \n",
    "    # subsample the data\n",
    "    mask = list(range(num_training, num_training + num_validation))\n",
    "    X_val = X_train[mask]\n",
    "    y_val = y_train[mask]\n",
    "    mask = list(range(num_training))\n",
    "    X_train = X_train[mask]\n",
    "    y_train = y_train[mask]\n",
    "    mask = list(range(num_test))\n",
    "    X_test = X_test[mask]\n",
    "    y_test = y_test[mask]\n",
    "    mask = np.random.choice(num_training, num_dev, replace=False)\n",
    "    X_dev = X_train[mask]\n",
    "    y_dev = y_train[mask]\n",
    "    \n",
    "    # Preprocessing: reshape the image data into rows\n",
    "    X_train = np.reshape(X_train, (X_train.shape[0], -1))\n",
    "    X_val = np.reshape(X_val, (X_val.shape[0], -1))\n",
    "    X_test = np.reshape(X_test, (X_test.shape[0], -1))\n",
    "    X_dev = np.reshape(X_dev, (X_dev.shape[0], -1))\n",
    "    \n",
    "    # Normalize the data: subtract the mean image\n",
    "    mean_image = np.mean(X_train, axis = 0)\n",
    "    X_train -= mean_image\n",
    "    X_val -= mean_image\n",
    "    X_test -= mean_image\n",
    "    X_dev -= mean_image\n",
    "    \n",
    "    # add bias dimension and transform into columns\n",
    "    X_train = np.hstack([X_train, np.ones((X_train.shape[0], 1))])\n",
    "    X_val = np.hstack([X_val, np.ones((X_val.shape[0], 1))])\n",
    "    X_test = np.hstack([X_test, np.ones((X_test.shape[0], 1))])\n",
    "    X_dev = np.hstack([X_dev, np.ones((X_dev.shape[0], 1))])\n",
    "    \n",
    "    return X_train, y_train, X_val, y_val, X_test, y_test, X_dev, y_dev\n",
    "\n",
    "\n",
    "# Invoke the above function to get our data.\n",
    "X_train, y_train, X_val, y_val, X_test, y_test, X_dev, y_dev = get_CIFAR10_data()\n",
    "print('Train data shape: ', X_train.shape)\n",
    "print('Train labels shape: ', y_train.shape)\n",
    "print('Validation data shape: ', X_val.shape)\n",
    "print('Validation labels shape: ', y_val.shape)\n",
    "print('Test data shape: ', X_test.shape)\n",
    "print('Test labels shape: ', y_test.shape)\n",
    "print('dev data shape: ', X_dev.shape)\n",
    "print('dev labels shape: ', y_dev.shape)"
   ]
  },
  {
   "cell_type": "markdown",
   "metadata": {},
   "source": [
    "## Softmax Classifier\n",
    "\n",
    "Your code for this section will all be written inside `cs231n/classifiers/softmax.py`.\n"
   ]
  },
  {
   "cell_type": "code",
   "execution_count": 3,
   "metadata": {},
   "outputs": [
    {
     "name": "stdout",
     "output_type": "stream",
     "text": [
      "loss: 2.317095\n",
      "sanity check: 2.302585\n"
     ]
    }
   ],
   "source": [
    "# First implement the naive softmax loss function with nested loops.\n",
    "# Open the file cs231n/classifiers/softmax.py and implement the\n",
    "# softmax_loss_naive function.\n",
    "\n",
    "from cs231n.classifiers.softmax import softmax_loss_naive\n",
    "import time\n",
    "\n",
    "# Generate a random softmax weight matrix and use it to compute the loss.\n",
    "W = np.random.randn(3073, 10) * 0.0001\n",
    "loss, grad = softmax_loss_naive(W, X_dev, y_dev, 0.0)\n",
    "\n",
    "# As a rough sanity check, our loss should be something close to -log(0.1).\n",
    "print('loss: %f' % loss)\n",
    "print('sanity check: %f' % (-np.log(0.1)))"
   ]
  },
  {
   "cell_type": "markdown",
   "metadata": {
    "tags": [
     "pdf-inline"
    ]
   },
   "source": [
    "**Inline Question 1**\n",
    "\n",
    "Why do we expect our loss to be close to -log(0.1)? Explain briefly.**\n",
    "\n",
    "$\\color{blue}{\\textit Your Answer:}$ Because our weight matrix is multiplied by 0.001 and the values inside are very small and close to 0, the values in the score vector obtained are also close to 0. \n",
    "\n"
   ]
  },
  {
   "cell_type": "code",
   "execution_count": 4,
   "metadata": {},
   "outputs": [
    {
     "name": "stdout",
     "output_type": "stream",
     "text": [
      "numerical: -0.838623 analytic: 1.071527, relative error: 1.000000e+00\n",
      "numerical: -2.475292 analytic: -0.803979, relative error: 5.096597e-01\n",
      "numerical: 1.729675 analytic: 1.978534, relative error: 6.711049e-02\n",
      "numerical: -4.934427 analytic: -7.746447, relative error: 2.217529e-01\n",
      "numerical: -0.217119 analytic: -1.848748, relative error: 7.898037e-01\n",
      "numerical: -2.725648 analytic: -4.753186, relative error: 2.711035e-01\n",
      "numerical: -0.403452 analytic: -0.384739, relative error: 2.374144e-02\n",
      "numerical: 1.257830 analytic: 3.424379, relative error: 4.627196e-01\n",
      "numerical: -1.309692 analytic: 0.024898, relative error: 1.000000e+00\n",
      "numerical: 2.802491 analytic: 3.931517, relative error: 1.676602e-01\n",
      "numerical: -1.730963 analytic: -2.640155, relative error: 2.079998e-01\n",
      "numerical: 0.730971 analytic: -1.409893, relative error: 1.000000e+00\n",
      "numerical: -0.741813 analytic: -0.332650, relative error: 3.808073e-01\n",
      "numerical: -1.511198 analytic: -0.357420, relative error: 6.174500e-01\n",
      "numerical: -2.714978 analytic: -3.908620, relative error: 1.802105e-01\n",
      "numerical: 1.205605 analytic: -3.495870, relative error: 1.000000e+00\n",
      "numerical: 2.952169 analytic: 0.095279, relative error: 9.374698e-01\n",
      "numerical: -0.077157 analytic: 0.931319, relative error: 1.000000e+00\n",
      "numerical: -0.860329 analytic: -3.245723, relative error: 5.809460e-01\n",
      "numerical: -3.909331 analytic: -7.510579, relative error: 3.153481e-01\n"
     ]
    }
   ],
   "source": [
    "# Complete the implementation of softmax_loss_naive and implement a (naive)\n",
    "# version of the gradient that uses nested loops.\n",
    "loss, grad = softmax_loss_naive(W, X_dev, y_dev, 0.0)\n",
    "\n",
    "# As we did for the SVM, use numeric gradient checking as a debugging tool.\n",
    "# The numeric gradient should be close to the analytic gradient.\n",
    "from cs231n.gradient_check import grad_check_sparse\n",
    "f = lambda w: softmax_loss_naive(w, X_dev, y_dev, 0.0)[0]\n",
    "grad_numerical = grad_check_sparse(f, W, grad, 10)\n",
    "\n",
    "# similar to SVM case, do another gradient check with regularization\n",
    "loss, grad = softmax_loss_naive(W, X_dev, y_dev, 5e1)\n",
    "f = lambda w: softmax_loss_naive(w, X_dev, y_dev, 5e1)[0]\n",
    "grad_numerical = grad_check_sparse(f, W, grad, 10)"
   ]
  },
  {
   "cell_type": "code",
   "execution_count": 5,
   "metadata": {},
   "outputs": [
    {
     "name": "stdout",
     "output_type": "stream",
     "text": [
      "naive loss: 2.317095e+00 computed in 0.150000s\n",
      "vectorized loss: 2.317095e+00 computed in 0.003001s\n",
      "Loss difference: 0.000000\n",
      "Gradient difference: 369.912073\n"
     ]
    }
   ],
   "source": [
    "# Now that we have a naive implementation of the softmax loss function and its gradient,\n",
    "# implement a vectorized version in softmax_loss_vectorized.\n",
    "# The two versions should compute the same results, but the vectorized version should be\n",
    "# much faster.\n",
    "tic = time.time()\n",
    "loss_naive, grad_naive = softmax_loss_naive(W, X_dev, y_dev, 0.000005)\n",
    "toc = time.time()\n",
    "print('naive loss: %e computed in %fs' % (loss_naive, toc - tic))\n",
    "\n",
    "from cs231n.classifiers.softmax import softmax_loss_vectorized\n",
    "tic = time.time()\n",
    "loss_vectorized, grad_vectorized = softmax_loss_vectorized(W, X_dev, y_dev, 0.000005)\n",
    "toc = time.time()\n",
    "print('vectorized loss: %e computed in %fs' % (loss_vectorized, toc - tic))\n",
    "\n",
    "# As we did for the SVM, we use the Frobenius norm to compare the two versions\n",
    "# of the gradient.\n",
    "grad_difference = np.linalg.norm(grad_naive - grad_vectorized, ord='fro')\n",
    "print('Loss difference: %f' % np.abs(loss_naive - loss_vectorized))\n",
    "print('Gradient difference: %f' % grad_difference)"
   ]
  },
  {
   "cell_type": "code",
   "execution_count": 11,
   "metadata": {
    "id": "tuning",
    "tags": [
     "code"
    ]
   },
   "outputs": [
    {
     "name": "stdout",
     "output_type": "stream",
     "text": [
      "iteration 0 / 3000: loss 9.008270\n",
      "iteration 100 / 3000: loss 6.530596\n",
      "iteration 200 / 3000: loss 6.274264\n",
      "iteration 300 / 3000: loss 5.626730\n",
      "iteration 400 / 3000: loss 5.725052\n",
      "iteration 500 / 3000: loss 5.413525\n",
      "iteration 600 / 3000: loss 5.176185\n",
      "iteration 700 / 3000: loss 5.069840\n",
      "iteration 800 / 3000: loss 4.924273\n",
      "iteration 900 / 3000: loss 4.877355\n",
      "iteration 1000 / 3000: loss 4.600467\n",
      "iteration 1100 / 3000: loss 4.537574\n",
      "iteration 1200 / 3000: loss 4.460190\n",
      "iteration 1300 / 3000: loss 4.288260\n",
      "iteration 1400 / 3000: loss 4.232309\n",
      "iteration 1500 / 3000: loss 4.249636\n",
      "iteration 1600 / 3000: loss 3.940350\n",
      "iteration 1700 / 3000: loss 3.933201\n",
      "iteration 1800 / 3000: loss 3.934294\n",
      "iteration 1900 / 3000: loss 3.937490\n",
      "iteration 2000 / 3000: loss 3.845906\n",
      "iteration 2100 / 3000: loss 3.774873\n",
      "iteration 2200 / 3000: loss 3.774802\n",
      "iteration 2300 / 3000: loss 3.540020\n",
      "iteration 2400 / 3000: loss 3.336292\n",
      "iteration 2500 / 3000: loss 3.283151\n",
      "iteration 2600 / 3000: loss 3.216275\n",
      "iteration 2700 / 3000: loss 3.234126\n",
      "iteration 2800 / 3000: loss 3.347264\n",
      "iteration 2900 / 3000: loss 3.142789\n",
      "iteration 0 / 3000: loss 28.478845\n",
      "iteration 100 / 3000: loss 21.503188\n",
      "iteration 200 / 3000: loss 17.948911\n",
      "iteration 300 / 3000: loss 14.798919\n",
      "iteration 400 / 3000: loss 12.210236\n",
      "iteration 500 / 3000: loss 10.378668\n",
      "iteration 600 / 3000: loss 8.936124\n",
      "iteration 700 / 3000: loss 7.547747\n",
      "iteration 800 / 3000: loss 6.571133\n",
      "iteration 900 / 3000: loss 5.667050\n",
      "iteration 1000 / 3000: loss 4.915562\n",
      "iteration 1100 / 3000: loss 4.535760\n",
      "iteration 1200 / 3000: loss 3.897415\n",
      "iteration 1300 / 3000: loss 3.614873\n",
      "iteration 1400 / 3000: loss 3.230303\n",
      "iteration 1500 / 3000: loss 2.936200\n",
      "iteration 1600 / 3000: loss 2.830785\n",
      "iteration 1700 / 3000: loss 2.608334\n",
      "iteration 1800 / 3000: loss 2.517019\n",
      "iteration 1900 / 3000: loss 2.376822\n",
      "iteration 2000 / 3000: loss 2.238884\n",
      "iteration 2100 / 3000: loss 2.132641\n",
      "iteration 2200 / 3000: loss 2.011071\n",
      "iteration 2300 / 3000: loss 2.162356\n",
      "iteration 2400 / 3000: loss 2.017418\n",
      "iteration 2500 / 3000: loss 1.840701\n",
      "iteration 2600 / 3000: loss 1.962615\n",
      "iteration 2700 / 3000: loss 1.866755\n",
      "iteration 2800 / 3000: loss 1.830884\n",
      "iteration 2900 / 3000: loss 1.948284\n",
      "iteration 0 / 3000: loss 9.322531\n",
      "iteration 100 / 3000: loss 6.688167\n",
      "iteration 200 / 3000: loss 6.230677\n",
      "iteration 300 / 3000: loss 5.833086\n",
      "iteration 400 / 3000: loss 5.689036\n",
      "iteration 500 / 3000: loss 5.463478\n",
      "iteration 600 / 3000: loss 5.282030\n",
      "iteration 700 / 3000: loss 5.008834\n",
      "iteration 800 / 3000: loss 4.875830\n",
      "iteration 900 / 3000: loss 4.978945\n",
      "iteration 1000 / 3000: loss 4.850071\n",
      "iteration 1100 / 3000: loss 4.731999\n",
      "iteration 1200 / 3000: loss 4.484590\n",
      "iteration 1300 / 3000: loss 4.413221\n",
      "iteration 1400 / 3000: loss 4.190618\n",
      "iteration 1500 / 3000: loss 4.236104\n",
      "iteration 1600 / 3000: loss 4.040055\n",
      "iteration 1700 / 3000: loss 4.110639\n",
      "iteration 1800 / 3000: loss 3.905493\n",
      "iteration 1900 / 3000: loss 3.919928\n",
      "iteration 2000 / 3000: loss 3.819657\n",
      "iteration 2100 / 3000: loss 3.718732\n",
      "iteration 2200 / 3000: loss 3.684904\n",
      "iteration 2300 / 3000: loss 3.548670\n",
      "iteration 2400 / 3000: loss 3.446389\n",
      "iteration 2500 / 3000: loss 3.489508\n",
      "iteration 2600 / 3000: loss 3.606809\n",
      "iteration 2700 / 3000: loss 3.290619\n",
      "iteration 2800 / 3000: loss 3.360894\n",
      "iteration 2900 / 3000: loss 3.416712\n",
      "iteration 0 / 3000: loss 28.096754\n",
      "iteration 100 / 3000: loss 21.887306\n",
      "iteration 200 / 3000: loss 18.149381\n",
      "iteration 300 / 3000: loss 15.337992\n",
      "iteration 400 / 3000: loss 13.034981\n",
      "iteration 500 / 3000: loss 11.145127\n",
      "iteration 600 / 3000: loss 9.409376\n",
      "iteration 700 / 3000: loss 8.267869\n",
      "iteration 800 / 3000: loss 7.136326\n",
      "iteration 900 / 3000: loss 6.228820\n",
      "iteration 1000 / 3000: loss 5.390820\n",
      "iteration 1100 / 3000: loss 4.836947\n",
      "iteration 1200 / 3000: loss 4.270550\n",
      "iteration 1300 / 3000: loss 3.934423\n",
      "iteration 1400 / 3000: loss 3.565533\n",
      "iteration 1500 / 3000: loss 3.314929\n",
      "iteration 1600 / 3000: loss 3.015188\n",
      "iteration 1700 / 3000: loss 2.739964\n",
      "iteration 1800 / 3000: loss 2.618701\n",
      "iteration 1900 / 3000: loss 2.481881\n",
      "iteration 2000 / 3000: loss 2.384352\n",
      "iteration 2100 / 3000: loss 2.385721\n",
      "iteration 2200 / 3000: loss 2.283894\n",
      "iteration 2300 / 3000: loss 2.122830\n",
      "iteration 2400 / 3000: loss 2.079560\n",
      "iteration 2500 / 3000: loss 1.974165\n",
      "iteration 2600 / 3000: loss 1.920794\n",
      "iteration 2700 / 3000: loss 1.954110\n",
      "iteration 2800 / 3000: loss 1.958135\n",
      "iteration 2900 / 3000: loss 1.947183\n",
      "lr 6.000000e-07 reg 2.500000e+02 train accuracy: 0.382184 val accuracy: 0.374000\n",
      "lr 6.000000e-07 reg 1.500000e+03 train accuracy: 0.406959 val accuracy: 0.412000\n",
      "lr 6.500000e-07 reg 2.500000e+02 train accuracy: 0.385714 val accuracy: 0.376000\n",
      "lr 6.500000e-07 reg 1.500000e+03 train accuracy: 0.406857 val accuracy: 0.411000\n",
      "best validation accuracy achieved during cross-validation: 0.412000\n"
     ]
    }
   ],
   "source": [
    "# Use the validation set to tune hyperparameters (regularization strength and\n",
    "# learning rate). You should experiment with different ranges for the learning\n",
    "# rates and regularization strengths; if you are careful you should be able to\n",
    "# get a classification accuracy of over 0.35 on the validation set.\n",
    "\n",
    "from cs231n.classifiers import Softmax\n",
    "results = {}\n",
    "best_val = -1\n",
    "best_softmax = None\n",
    "\n",
    "################################################################################\n",
    "# TODO:                                                                        #\n",
    "# Use the validation set to set the learning rate and regularization strength. #\n",
    "# This should be identical to the validation that you did for the SVM; save    #\n",
    "# the best trained softmax classifer in best_softmax.                          #\n",
    "################################################################################\n",
    "\n",
    "# Provided as a reference. You may or may not want to change these hyperparameters\n",
    "learning_rates = [6.5e-7, 6e-7]\n",
    "regularization_strengths = [2.5e2,1.5e3]\n",
    "\n",
    "# *****START OF YOUR CODE (DO NOT DELETE/MODIFY THIS LINE)*****\n",
    "\n",
    "for lr in learning_rates:\n",
    "    for reg in regularization_strengths:\n",
    "        softmax=Softmax()\n",
    "        loss_hist=softmax.train(X_train,y_train,learning_rate=lr,reg=reg,num_iters=3000,verbose=True)\n",
    "        y_train_pred=softmax.predict(X_train)\n",
    "        y_val_pred=softmax.predict(X_val)\n",
    "        y_train_acc=np.sum(y_train_pred==y_train)/len(y_train_pred)\n",
    "        y_val_acc=np.sum(y_val_pred==y_val)/len(y_val_pred)\n",
    "        results[(lr,reg)]=[y_train_acc,y_val_acc]\n",
    "        if y_val_acc>best_val:\n",
    "            best_val=y_val_acc\n",
    "            best_softmax=softmax\n",
    "\n",
    "# *****END OF YOUR CODE (DO NOT DELETE/MODIFY THIS LINE)*****\n",
    "    \n",
    "# Print out results.\n",
    "for lr, reg in sorted(results):\n",
    "    train_accuracy, val_accuracy = results[(lr, reg)]\n",
    "    print('lr %e reg %e train accuracy: %f val accuracy: %f' % (\n",
    "                lr, reg, train_accuracy, val_accuracy))\n",
    "    \n",
    "print('best validation accuracy achieved during cross-validation: %f' % best_val)"
   ]
  },
  {
   "cell_type": "code",
   "execution_count": 12,
   "metadata": {
    "id": "test"
   },
   "outputs": [
    {
     "name": "stdout",
     "output_type": "stream",
     "text": [
      "softmax on raw pixels final test set accuracy: 0.386000\n"
     ]
    }
   ],
   "source": [
    "# evaluate on test set\n",
    "# Evaluate the best softmax on test set\n",
    "y_test_pred = best_softmax.predict(X_test)\n",
    "test_accuracy = np.mean(y_test == y_test_pred)\n",
    "print('softmax on raw pixels final test set accuracy: %f' % (test_accuracy, ))"
   ]
  },
  {
   "cell_type": "markdown",
   "metadata": {
    "tags": [
     "pdf-inline"
    ]
   },
   "source": [
    "**Inline Question 2** - *True or False*\n",
    "\n",
    "Suppose the overall training loss is defined as the sum of the per-datapoint loss over all training examples. It is possible to add a new datapoint to a training set that would leave the SVM loss unchanged, but this is not the case with the Softmax classifier loss.\n",
    "\n",
    "$\\color{blue}{\\textit Your Answer:}$True\n",
    "\n",
    "\n",
    "$\\color{blue}{\\textit Your Explanation:}$According to the formula of svm, it is possible that the added data points are easier to identify for svm, so after taking max, all are 0, but for softmax, a probability distribution is always obtained, and then the cross entropy is calculated, in other words, the loss of softmax An amount will always be added, even a small amount.\n",
    "\n"
   ]
  },
  {
   "cell_type": "code",
   "execution_count": 9,
   "metadata": {},
   "outputs": [
    {
     "data": {
      "image/png": "[encoded data removed]",
      "text/plain": [
       "<Figure size 432x288 with 10 Axes>"
      ]
     },
     "metadata": {
      "needs_background": "light"
     },
     "output_type": "display_data"
    }
   ],
   "source": [
    "# Visualize the learned weights for each class\n",
    "w = best_softmax.W[:-1,:] # strip out the bias\n",
    "w = w.reshape(32, 32, 3, 10)\n",
    "\n",
    "w_min, w_max = np.min(w), np.max(w)\n",
    "\n",
    "classes = ['plane', 'car', 'bird', 'cat', 'deer', 'dog', 'frog', 'horse', 'ship', 'truck']\n",
    "for i in range(10):\n",
    "    plt.subplot(2, 5, i + 1)\n",
    "    \n",
    "    # Rescale the weights to be between 0 and 255\n",
    "    wimg = 255.0 * (w[:, :, :, i].squeeze() - w_min) / (w_max - w_min)\n",
    "    plt.imshow(wimg.astype('uint8'))\n",
    "    plt.axis('off')\n",
    "    plt.title(classes[i])"
   ]
  },
  {
   "cell_type": "code",
   "execution_count": null,
   "metadata": {},
   "outputs": [],
   "source": []
  }
 ],
 "metadata": {
  "kernelspec": {
   "display_name": "Python 3",
   "language": "python",
   "name": "python3"
  },
  "language_info": {
   "codemirror_mode": {
    "name": "ipython",
    "version": 3
   },
   "file_extension": ".py",
   "mimetype": "text/x-python",
   "name": "python",
   "nbconvert_exporter": "python",
   "pygments_lexer": "ipython3",
   "version": "3.8.3"
  }
 },
 "nbformat": 4,
 "nbformat_minor": 1
}
